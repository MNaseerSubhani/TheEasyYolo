{
 "cells": [
  {
   "cell_type": "markdown",
   "metadata": {
    "id": "oRxLkpMpojrX"
   },
   "source": [
    "#Introduction"
   ]
  },
  {
   "cell_type": "markdown",
   "metadata": {
    "id": "Qe8jWxXponB6"
   },
   "source": [
    "This notebook will help you to train yolov3 and yolov4, also their tiny versions with applying different hyperparameters and create a different instances for each project training.\n",
    "\n",
    "[![Open In Colab](https://colab.research.google.com/assets/colab-badge.svg)](https://colab.research.google.com/drive/1brPZDy_yVDo38ixxpI6iSu7V4fj82Ohq?usp=sharing)"
   ]
  },
  {
   "cell_type": "code",
   "execution_count": null,
   "metadata": {
    "executionInfo": {
     "elapsed": 4,
     "status": "ok",
     "timestamp": 1623227004778,
     "user": {
      "displayName": "Muhammad Naseer Subhani",
      "photoUrl": "",
      "userId": "06699857406068047110"
     },
     "user_tz": -300
    },
    "id": "JRrChFiue291"
   },
   "outputs": [],
   "source": [
    "import os\n",
    "from shutil import copyfile"
   ]
  },
  {
   "cell_type": "markdown",
   "metadata": {
    "id": "3TerufAQZx1v"
   },
   "source": [
    "###Link Google Drive"
   ]
  },
  {
   "cell_type": "code",
   "execution_count": null,
   "metadata": {
    "colab": {
     "base_uri": "https://localhost:8080/"
    },
    "executionInfo": {
     "elapsed": 26879,
     "status": "ok",
     "timestamp": 1623227039324,
     "user": {
      "displayName": "Muhammad Naseer Subhani",
      "photoUrl": "",
      "userId": "06699857406068047110"
     },
     "user_tz": -300
    },
    "id": "0dejWKvVdbdJ",
    "outputId": "3befc797-ed76-4d53-c953-eae6ba61b31b"
   },
   "outputs": [],
   "source": [
    "from google.colab import drive\n",
    "drive.mount('/content/drive')"
   ]
  },
  {
   "cell_type": "markdown",
   "metadata": {
    "id": "MDn0PczAaJdm"
   },
   "source": [
    "### Move to the path where you want to save in gdrive"
   ]
  },
  {
   "cell_type": "code",
   "execution_count": null,
   "metadata": {
    "colab": {
     "base_uri": "https://localhost:8080/"
    },
    "executionInfo": {
     "elapsed": 419,
     "status": "ok",
     "timestamp": 1623227067819,
     "user": {
      "displayName": "Muhammad Naseer Subhani",
      "photoUrl": "",
      "userId": "06699857406068047110"
     },
     "user_tz": -300
    },
    "id": "nInBKRD9eqBl",
    "outputId": "32b062f9-1488-4766-dbf6-9328ef463194"
   },
   "outputs": [],
   "source": [
    "%cd /content/drive/MyDrive  "
   ]
  },
  {
   "cell_type": "markdown",
   "metadata": {
    "id": "SHYq7lncat0z"
   },
   "source": [
    "###Clone the repo   ==> <font color='red'>RunFirstTime</font>  when starting from zero"
   ]
  },
  {
   "cell_type": "code",
   "execution_count": null,
   "metadata": {
    "colab": {
     "base_uri": "https://localhost:8080/"
    },
    "executionInfo": {
     "elapsed": 2162,
     "status": "ok",
     "timestamp": 1623227073542,
     "user": {
      "displayName": "Muhammad Naseer Subhani",
      "photoUrl": "",
      "userId": "06699857406068047110"
     },
     "user_tz": -300
    },
    "id": "CG6cn26k2eBy",
    "outputId": "8d918918-b65f-4042-d252-40b35696ee15"
   },
   "outputs": [],
   "source": [
    "!git clone https://github.com/MNaseerSubhani/TheEasyYolo.git"
   ]
  },
  {
   "cell_type": "markdown",
   "metadata": {
    "id": "3uM9CgfHeFAy"
   },
   "source": [
    "### Get inside the repo folder"
   ]
  },
  {
   "cell_type": "code",
   "execution_count": null,
   "metadata": {
    "colab": {
     "base_uri": "https://localhost:8080/"
    },
    "executionInfo": {
     "elapsed": 382,
     "status": "ok",
     "timestamp": 1623227079109,
     "user": {
      "displayName": "Muhammad Naseer Subhani",
      "photoUrl": "",
      "userId": "06699857406068047110"
     },
     "user_tz": -300
    },
    "id": "k8HcYJpfd2gl",
    "outputId": "1c7d254a-5e85-4b90-cd56-087b87412a98"
   },
   "outputs": [],
   "source": [
    "%cd TheEasyYolo"
   ]
  },
  {
   "cell_type": "markdown",
   "metadata": {
    "id": "XACHv_SCb22g"
   },
   "source": [
    "###Update Submodule : <font color='red'>RunFirstTime</font>  when starting from zero"
   ]
  },
  {
   "cell_type": "code",
   "execution_count": null,
   "metadata": {
    "colab": {
     "base_uri": "https://localhost:8080/"
    },
    "executionInfo": {
     "elapsed": 23974,
     "status": "ok",
     "timestamp": 1623227106196,
     "user": {
      "displayName": "Muhammad Naseer Subhani",
      "photoUrl": "",
      "userId": "06699857406068047110"
     },
     "user_tz": -300
    },
    "id": "ssOacXEcb7e5",
    "outputId": "8bd5ef2a-5f87-4ef8-a691-c431b8484acb"
   },
   "outputs": [],
   "source": [
    "!git submodule init\n",
    "!git submodule update"
   ]
  },
  {
   "cell_type": "markdown",
   "metadata": {
    "id": "993kfVlDe-Nj"
   },
   "source": [
    "###  <font color='yellow'>Yolo Instance Init</font> : <font color='red'>RunFirstTime</font>  when creating new Instance"
   ]
  },
  {
   "cell_type": "code",
   "execution_count": null,
   "metadata": {
    "colab": {
     "base_uri": "https://localhost:8080/"
    },
    "executionInfo": {
     "elapsed": 387,
     "status": "ok",
     "timestamp": 1623227109869,
     "user": {
      "displayName": "Muhammad Naseer Subhani",
      "photoUrl": "",
      "userId": "06699857406068047110"
     },
     "user_tz": -300
    },
    "id": "4DNpkqJ8syjM",
    "outputId": "01b7b67f-90f7-46c6-d0d1-86024f1befac"
   },
   "outputs": [],
   "source": [
    "%cd /content/drive/MyDrive/TheEasyYolo"
   ]
  },
  {
   "cell_type": "code",
   "execution_count": null,
   "metadata": {
    "executionInfo": {
     "elapsed": 383,
     "status": "ok",
     "timestamp": 1623227524119,
     "user": {
      "displayName": "Muhammad Naseer Subhani",
      "photoUrl": "",
      "userId": "06699857406068047110"
     },
     "user_tz": -300
    },
    "id": "0-rDN7Di3zoJ"
   },
   "outputs": [],
   "source": [
    "instance_name = \"yolo_stage_2\"     # Put any name of the Instance \n",
    "#set hyperparameters\n",
    "num_of_classes = 1                  # Total number of classes \n",
    "channel = 1                         # Channel used \"1 for Grayscale or 3 for RGB\"\n",
    "sub_division = 16            \n",
    "width = 320                         # Width of input image\n",
    "height = 256                        # Height of input image\n",
    "batch = 16                          # batch size\n",
    "yolo_ver = \"YoloV4-tiny\"            #The input should be YoloV4, YoloV4-tiny, YoloV3, YoloV3-tiny\n"
   ]
  },
  {
   "cell_type": "code",
   "execution_count": null,
   "metadata": {
    "executionInfo": {
     "elapsed": 3,
     "status": "ok",
     "timestamp": 1623227526291,
     "user": {
      "displayName": "Muhammad Naseer Subhani",
      "photoUrl": "",
      "userId": "06699857406068047110"
     },
     "user_tz": -300
    },
    "id": "Lv1k1zciEdZp"
   },
   "outputs": [],
   "source": [
    "if not os.path.exists(instance_name):\n",
    "  os.mkdir(instance_name)"
   ]
  },
  {
   "cell_type": "code",
   "execution_count": null,
   "metadata": {
    "executionInfo": {
     "elapsed": 2,
     "status": "ok",
     "timestamp": 1623227528417,
     "user": {
      "displayName": "Muhammad Naseer Subhani",
      "photoUrl": "",
      "userId": "06699857406068047110"
     },
     "user_tz": -300
    },
    "id": "6Ik6Dsy_ALi1"
   },
   "outputs": [],
   "source": [
    "if yolo_ver == \"YoloV3-tiny\":\n",
    "  cfg_name = \"yolov3-tiny.cfg\"\n",
    "elif yolo_ver == \"YoloV3\":\n",
    "  cfg_name = \"yolov3.cfg\"\n",
    "elif yolo_ver == \"YoloV4-tiny\":\n",
    "  cfg_name = \"yolov4-tiny.cfg\"\n",
    "elif yolo_ver == \"YoloV4\":\n",
    "  cfg_name = \"yolov4.cfg\""
   ]
  },
  {
   "cell_type": "code",
   "execution_count": null,
   "metadata": {
    "colab": {
     "base_uri": "https://localhost:8080/",
     "height": 35
    },
    "executionInfo": {
     "elapsed": 8,
     "status": "ok",
     "timestamp": 1623227528793,
     "user": {
      "displayName": "Muhammad Naseer Subhani",
      "photoUrl": "",
      "userId": "06699857406068047110"
     },
     "user_tz": -300
    },
    "id": "nv1URSriGAaH",
    "outputId": "a006addf-c759-4066-a627-a823c6792322"
   },
   "outputs": [],
   "source": [
    "cfg_file_name = f'{cfg_name[:-4]}_{instance_name}.cfg'\n",
    "copyfile(os.path.join('./darknet/cfg/', cfg_name),os.path.join(instance_name, cfg_file_name))"
   ]
  },
  {
   "cell_type": "code",
   "execution_count": null,
   "metadata": {
    "colab": {
     "base_uri": "https://localhost:8080/"
    },
    "executionInfo": {
     "elapsed": 825,
     "status": "ok",
     "timestamp": 1623227532259,
     "user": {
      "displayName": "Muhammad Naseer Subhani",
      "photoUrl": "",
      "userId": "06699857406068047110"
     },
     "user_tz": -300
    },
    "id": "byx9ec0NHWZ7",
    "outputId": "226c044a-a27d-4b13-e72f-c169b3a5870b"
   },
   "outputs": [],
   "source": [
    "%cd {instance_name}\n",
    "!sed -i 's/subdivisions=1/subdivisions=$sub_division/' {cfg_file_name}\n",
    "!sed -i 's/width=416/width=$width/' {cfg_file_name}\n",
    "!sed -i 's/batch=64/batch=$batch/' {cfg_file_name}\n",
    "!sed -i 's/height=416/height=$height/' {cfg_file_name}\n",
    "!sed -i 's/channels=3/channels=$channel/' {cfg_file_name}\n",
    "!sed -i 's/classes=80/classes=$num_of_classes/' {cfg_file_name}\n",
    "filters = int ((num_of_classes + 5) * 3)\n",
    "!sed -i 's/filters=255/filters=$filters/' {cfg_file_name}\n",
    "%cd .."
   ]
  },
  {
   "cell_type": "code",
   "execution_count": null,
   "metadata": {
    "colab": {
     "base_uri": "https://localhost:8080/",
     "height": 35
    },
    "executionInfo": {
     "elapsed": 617,
     "status": "ok",
     "timestamp": 1623227534867,
     "user": {
      "displayName": "Muhammad Naseer Subhani",
      "photoUrl": "",
      "userId": "06699857406068047110"
     },
     "user_tz": -300
    },
    "id": "94y8fTRqNdsx",
    "outputId": "22d4e47d-87ca-4fb2-a17b-a908149d63b6"
   },
   "outputs": [],
   "source": [
    "copyfile('generate_test.py',os.path.join(instance_name, 'generate_test.py'))\n",
    "copyfile('generate_train.py',os.path.join(instance_name, 'generate_train.py'))"
   ]
  },
  {
   "cell_type": "markdown",
   "metadata": {
    "id": "TL8e5pU8gEcy"
   },
   "source": [
    "###  <font color='red'>NOTE: At this stage add dataset to the instance folder as structured below</font>\n",
    "\n",
    "--data\n",
    "\n",
    "  ----------- train\n",
    "\n",
    "  ----------- test"
   ]
  },
  {
   "cell_type": "markdown",
   "metadata": {
    "id": "OCrAkwkNg1ma"
   },
   "source": [
    "### Generate text files for the data : <font color='red'>RunFirstTime</font>  when creating new Instance"
   ]
  },
  {
   "cell_type": "code",
   "execution_count": null,
   "metadata": {
    "colab": {
     "base_uri": "https://localhost:8080/"
    },
    "executionInfo": {
     "elapsed": 4495,
     "status": "ok",
     "timestamp": 1623227581674,
     "user": {
      "displayName": "Muhammad Naseer Subhani",
      "photoUrl": "",
      "userId": "06699857406068047110"
     },
     "user_tz": -300
    },
    "id": "mC7Wph_YN8E6",
    "outputId": "4fc863b1-93ef-4bdc-ea45-a1e4713ed272"
   },
   "outputs": [],
   "source": [
    "%cd {instance_name}\n",
    "!python generate_train.py\n",
    "!python generate_test.py\n",
    "%cd .."
   ]
  },
  {
   "cell_type": "markdown",
   "metadata": {
    "id": "HUGN3ne3htTI"
   },
   "source": [
    "###Generate train.names file for the instance : <font color='red'>RunFirstTime</font>  when creating new Instance"
   ]
  },
  {
   "cell_type": "code",
   "execution_count": null,
   "metadata": {
    "colab": {
     "base_uri": "https://localhost:8080/"
    },
    "executionInfo": {
     "elapsed": 11,
     "status": "ok",
     "timestamp": 1623227729962,
     "user": {
      "displayName": "Muhammad Naseer Subhani",
      "photoUrl": "",
      "userId": "06699857406068047110"
     },
     "user_tz": -300
    },
    "id": "qCQX3297Wu1c",
    "outputId": "65e10e41-ed34-4792-ee71-aa35ed71c7fe"
   },
   "outputs": [],
   "source": [
    "%cd {instance_name}\n",
    "with open(\"train.names\", \"w\") as f:   \n",
    "    f.write(\"defect\")\n",
    "    #f.write(\"\\nother classe\")\n",
    "%cd .."
   ]
  },
  {
   "cell_type": "markdown",
   "metadata": {
    "id": "UT6-h2RMh5aA"
   },
   "source": [
    "###Generate train.data file for the instance : <font color='red'>RunFirstTime</font>  when creating new Instance"
   ]
  },
  {
   "cell_type": "code",
   "execution_count": null,
   "metadata": {
    "colab": {
     "base_uri": "https://localhost:8080/"
    },
    "executionInfo": {
     "elapsed": 416,
     "status": "ok",
     "timestamp": 1623227742500,
     "user": {
      "displayName": "Muhammad Naseer Subhani",
      "photoUrl": "",
      "userId": "06699857406068047110"
     },
     "user_tz": -300
    },
    "id": "oHxlALa_c0Ax",
    "outputId": "af26dc80-7f9c-4ae1-fba1-5c6d10f8ffe0"
   },
   "outputs": [],
   "source": [
    "%cd {instance_name}\n",
    "\n",
    "if not os.path.exists('backup'):\n",
    "  os.mkdir('backup')\n",
    "\n",
    "with open(\"train.data\", \"w\") as f:   \n",
    "    f.write(f\"classes={num_of_classes}\")\n",
    "    f.write(f\"\\ntrain = {os.path.join(os.getcwd(), 'data', 'train.txt')}\")\n",
    "    f.write(f\"\\nvalid = {os.path.join(os.getcwd(), 'data', 'test.txt')}\")\n",
    "    f.write(f\"\\nnames = {os.path.join(os.getcwd(), 'train.names')}\")\n",
    "    f.write(f\"\\nbackup = {os.path.join(os.getcwd(), 'backup/')}\")\n",
    "    #f.write(\"\\nother classe\")\n",
    "%cd .."
   ]
  },
  {
   "cell_type": "markdown",
   "metadata": {
    "id": "D5IrfMNvgt2w"
   },
   "source": [
    "#Training"
   ]
  },
  {
   "cell_type": "code",
   "execution_count": null,
   "metadata": {
    "colab": {
     "base_uri": "https://localhost:8080/"
    },
    "executionInfo": {
     "elapsed": 393,
     "status": "ok",
     "timestamp": 1623227750120,
     "user": {
      "displayName": "Muhammad Naseer Subhani",
      "photoUrl": "",
      "userId": "06699857406068047110"
     },
     "user_tz": -300
    },
    "id": "1CLw_k_MgwNP",
    "outputId": "c4506886-7351-441d-a1ef-3c3b9dbebd1a"
   },
   "outputs": [],
   "source": [
    "%cd darknet"
   ]
  },
  {
   "cell_type": "code",
   "execution_count": null,
   "metadata": {
    "executionInfo": {
     "elapsed": 489,
     "status": "ok",
     "timestamp": 1623227752270,
     "user": {
      "displayName": "Muhammad Naseer Subhani",
      "photoUrl": "",
      "userId": "06699857406068047110"
     },
     "user_tz": -300
    },
    "id": "ZFQqH43rgxd9"
   },
   "outputs": [],
   "source": [
    "!sed -i 's/OPENCV=0/OPENCV=1/' Makefile\n",
    "!sed -i 's/GPU=0/GPU=1/' Makefile\n",
    "!sed -i 's/CUDNN=0/CUDNN=1/' Makefile\n",
    "!sed -i 's/CUDNN_HALF=0/CUDNN_HALF=1/' Makefile"
   ]
  },
  {
   "cell_type": "markdown",
   "metadata": {
    "id": "8gBIQC8lg-pi"
   },
   "source": [
    "### Download pre-trained weights for the convolutional layers : <font color='red'>RunFirstTime</font>  when creating new Instance"
   ]
  },
  {
   "cell_type": "code",
   "execution_count": null,
   "metadata": {
    "colab": {
     "base_uri": "https://localhost:8080/"
    },
    "executionInfo": {
     "elapsed": 3007,
     "status": "ok",
     "timestamp": 1623227760208,
     "user": {
      "displayName": "Muhammad Naseer Subhani",
      "photoUrl": "",
      "userId": "06699857406068047110"
     },
     "user_tz": -300
    },
    "id": "SnQ7Pi1wg_XS",
    "outputId": "1346b3b8-e5de-4dcc-f61e-be0df1bc86fb"
   },
   "outputs": [],
   "source": [
    "if yolo_ver == \"YoloV4\" or yolo_ver == \"YoloV4-tiny\":\n",
    "  !wget https://github.com/AlexeyAB/darknet/releases/download/darknet_yolo_v3_optimal/yolov4.conv.137\n",
    "  pre_trained_weights = 'yolov4.conv.137'\n",
    "elif yolo_ver == \"YoloV3\":\n",
    "  !wget https://github.com/smarthomefans/darknet-test/blob/master/yolov3-tiny.weights\n",
    "  pre_trained_weights = 'yolov3-tiny.weights'\n",
    "elif yolo_ver == \"YoloV3-tiny\":\n",
    "  !wget https://github.com/smarthomefans/darknet-test/blob/master/yolov3-tiny.weights\n",
    "  pre_trained_weights = 'yolov3-tiny.weights'"
   ]
  },
  {
   "cell_type": "markdown",
   "metadata": {
    "id": "A6qAZUm7i7MZ"
   },
   "source": [
    "### <font color='yellow'>Run Make</font> : <font color='red'>RunFirstTime</font>  when starting from zero"
   ]
  },
  {
   "cell_type": "code",
   "execution_count": null,
   "metadata": {
    "colab": {
     "base_uri": "https://localhost:8080/"
    },
    "executionInfo": {
     "elapsed": 109274,
     "status": "ok",
     "timestamp": 1623227876784,
     "user": {
      "displayName": "Muhammad Naseer Subhani",
      "photoUrl": "",
      "userId": "06699857406068047110"
     },
     "user_tz": -300
    },
    "id": "18OVndQqhZP6",
    "outputId": "7a3d151c-4bb3-4787-ff2e-4ce1a25e0635"
   },
   "outputs": [],
   "source": [
    "!make"
   ]
  },
  {
   "cell_type": "markdown",
   "metadata": {
    "id": "MvEe3vwFjLD5"
   },
   "source": [
    "###Training "
   ]
  },
  {
   "cell_type": "code",
   "execution_count": null,
   "metadata": {
    "colab": {
     "base_uri": "https://localhost:8080/"
    },
    "executionInfo": {
     "elapsed": 3394895,
     "status": "ok",
     "timestamp": 1623231552289,
     "user": {
      "displayName": "Muhammad Naseer Subhani",
      "photoUrl": "",
      "userId": "06699857406068047110"
     },
     "user_tz": -300
    },
    "id": "CL2iNGlThhIK",
    "outputId": "384ca42f-d9d0-4bc8-9a98-0d6ff1d291a9"
   },
   "outputs": [],
   "source": [
    "!./darknet detector train ../{instance_name}/train.data ../{instance_name}/{cfg_file_name} {pre_trained_weights} -dont_show -map -clear"
   ]
  },
  {
   "cell_type": "markdown",
   "metadata": {
    "id": "s1OiukpjibIU"
   },
   "source": [
    "Continue Training"
   ]
  },
  {
   "cell_type": "code",
   "execution_count": null,
   "metadata": {
    "id": "yANRTD-oic-T"
   },
   "outputs": [],
   "source": [
    "!./darknet detector train ../{instance_name}/train.data ../{instance_name}/{cfg_file_name} ../{instance_name}/backup/{cfg_file_name[:-4] + '_last.weights'} -dont_show -map -clear"
   ]
  },
  {
   "cell_type": "markdown",
   "metadata": {
    "id": "S6Dk1LVQjxaU"
   },
   "source": [
    "#Test"
   ]
  },
  {
   "cell_type": "code",
   "execution_count": null,
   "metadata": {
    "colab": {
     "base_uri": "https://localhost:8080/"
    },
    "executionInfo": {
     "elapsed": 415,
     "status": "ok",
     "timestamp": 1623231566792,
     "user": {
      "displayName": "Muhammad Naseer Subhani",
      "photoUrl": "",
      "userId": "06699857406068047110"
     },
     "user_tz": -300
    },
    "id": "YjHjKM8Cnti4",
    "outputId": "d53c46bf-7979-4dda-d9dd-bbb1bdbe98e7"
   },
   "outputs": [],
   "source": [
    "%cd .."
   ]
  },
  {
   "cell_type": "code",
   "execution_count": null,
   "metadata": {
    "colab": {
     "base_uri": "https://localhost:8080/"
    },
    "executionInfo": {
     "elapsed": 644,
     "status": "ok",
     "timestamp": 1623231569211,
     "user": {
      "displayName": "Muhammad Naseer Subhani",
      "photoUrl": "",
      "userId": "06699857406068047110"
     },
     "user_tz": -300
    },
    "id": "Sm8RKsgWjywt",
    "outputId": "198dd49c-4240-4694-a89c-8050d2355ed3"
   },
   "outputs": [],
   "source": [
    "%cd {instance_name}\n",
    "!sed -i 's/batch=$batch/batch=1/' {cfg_file_name}\n",
    "!sed -i 's/subdivisions=$sub_division/subdivisions=1/' {cfg_file_name}\n",
    "%cd .."
   ]
  },
  {
   "cell_type": "code",
   "execution_count": null,
   "metadata": {
    "colab": {
     "base_uri": "https://localhost:8080/"
    },
    "executionInfo": {
     "elapsed": 5,
     "status": "ok",
     "timestamp": 1623231572475,
     "user": {
      "displayName": "Muhammad Naseer Subhani",
      "photoUrl": "",
      "userId": "06699857406068047110"
     },
     "user_tz": -300
    },
    "id": "0woqrnrPrnlR",
    "outputId": "bb9d5c3b-8c31-45a9-8867-b16fc32500ed"
   },
   "outputs": [],
   "source": [
    "%cd darknet"
   ]
  },
  {
   "cell_type": "code",
   "execution_count": null,
   "metadata": {
    "colab": {
     "base_uri": "https://localhost:8080/"
    },
    "executionInfo": {
     "elapsed": 3247,
     "status": "ok",
     "timestamp": 1623231731715,
     "user": {
      "displayName": "Muhammad Naseer Subhani",
      "photoUrl": "",
      "userId": "06699857406068047110"
     },
     "user_tz": -300
    },
    "id": "3aninoXQl_AD",
    "outputId": "c777fc53-c075-4ac8-c4d7-b048b68ca5d5"
   },
   "outputs": [],
   "source": [
    "!./darknet detector test ../{instance_name}/train.data ../{instance_name}/{cfg_file_name} ../{instance_name}/backup/{cfg_file_name[:-4] + '_last.weights'} ../{instance_name}/data/test/IMG_0296.jpg -thresh 0.1"
   ]
  },
  {
   "cell_type": "code",
   "execution_count": null,
   "metadata": {
    "colab": {
     "base_uri": "https://localhost:8080/"
    },
    "executionInfo": {
     "elapsed": 419,
     "status": "ok",
     "timestamp": 1623232067246,
     "user": {
      "displayName": "Muhammad Naseer Subhani",
      "photoUrl": "",
      "userId": "06699857406068047110"
     },
     "user_tz": -300
    },
    "id": "076RsN7ptO7q",
    "outputId": "fce474f2-f718-4577-dc5d-879f5cab6518"
   },
   "outputs": [],
   "source": [
    "%cd home/TheEasyYolo"
   ]
  },
  {
   "cell_type": "code",
   "execution_count": null,
   "metadata": {
    "colab": {
     "base_uri": "https://localhost:8080/"
    },
    "executionInfo": {
     "elapsed": 2227,
     "status": "ok",
     "timestamp": 1623232105822,
     "user": {
      "displayName": "Muhammad Naseer Subhani",
      "photoUrl": "",
      "userId": "06699857406068047110"
     },
     "user_tz": -300
    },
    "id": "nut1rMzUJ8CR",
    "outputId": "4cd106ac-63f4-4a50-8962-3202742a19ec"
   },
   "outputs": [],
   "source": [
    "!jupyter nbconvert --ClAearOutputPreprocessor.enabled=True --inplace TheEasyYolo.ipynb"
   ]
  },
  {
   "cell_type": "code",
   "execution_count": null,
   "metadata": {
    "colab": {
     "base_uri": "https://localhost:8080/"
    },
    "executionInfo": {
     "elapsed": 430,
     "status": "ok",
     "timestamp": 1623232143500,
     "user": {
      "displayName": "Muhammad Naseer Subhani",
      "photoUrl": "",
      "userId": "06699857406068047110"
     },
     "user_tz": -300
    },
    "id": "wzAdcf1WtT7L",
    "outputId": "2bb1d8b8-fa92-4427-ea4d-ff7a119c9e21"
   },
   "outputs": [],
   "source": [
    "!ls"
   ]
  },
  {
   "cell_type": "code",
   "execution_count": null,
   "metadata": {
    "id": "ccR-vJzzKYUu"
   },
   "outputs": [],
   "source": []
  }
 ],
 "metadata": {
  "accelerator": "GPU",
  "colab": {
   "authorship_tag": "ABX9TyO8pWTojAIW8mZZ+YJtFicZ",
   "collapsed_sections": [],
   "mount_file_id": "1xf66WvFVf3p5uLNnObSMPAzlCu8JahCR",
   "name": "TheEasyYolo.ipynb",
   "provenance": [],
   "toc_visible": true
  },
  "kernelspec": {
   "display_name": "Python 3",
   "name": "python3"
  },
  "language_info": {
   "name": "python"
  }
 },
 "nbformat": 4,
 "nbformat_minor": 0
}
