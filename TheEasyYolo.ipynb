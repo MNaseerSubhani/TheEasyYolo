{
 "cells": [
  {
   "cell_type": "markdown",
   "metadata": {
    "id": "oRxLkpMpojrX"
   },
   "source": [
    "#Introduction"
   ]
  },
  {
   "cell_type": "markdown",
   "metadata": {
    "id": "Qe8jWxXponB6"
   },
   "source": [
    "This notebook will help you to train most of the versions of yolo with different hyperparameter's flexiblity and generate different instacne for each project training.\n",
    "\n",
    "[![Open In Colab](https://colab.research.google.com/assets/colab-badge.svg)](https://colab.research.google.com/drive/1brPZDy_yVDo38ixxpI6iSu7V4fj82Ohq?usp=sharing)"
   ]
  },
  {
   "cell_type": "code",
   "execution_count": null,
   "metadata": {
    "executionInfo": {
     "elapsed": 648,
     "status": "ok",
     "timestamp": 1623153409010,
     "user": {
      "displayName": "Muhammad Naseer Subhani",
      "photoUrl": "",
      "userId": "06699857406068047110"
     },
     "user_tz": -300
    },
    "id": "JRrChFiue291"
   },
   "outputs": [],
   "source": [
    "import os\n",
    "from shutil import copyfile"
   ]
  },
  {
   "cell_type": "markdown",
   "metadata": {
    "id": "3TerufAQZx1v"
   },
   "source": [
    "###Link Google Drive"
   ]
  },
  {
   "cell_type": "code",
   "execution_count": null,
   "metadata": {
    "colab": {
     "base_uri": "https://localhost:8080/"
    },
    "executionInfo": {
     "elapsed": 25689,
     "status": "ok",
     "timestamp": 1623152146109,
     "user": {
      "displayName": "Muhammad Naseer Subhani",
      "photoUrl": "",
      "userId": "06699857406068047110"
     },
     "user_tz": -300
    },
    "id": "0dejWKvVdbdJ",
    "outputId": "72a4bbc6-88f9-43ef-dfc6-26d6d9152bc5"
   },
   "outputs": [],
   "source": [
    "from google.colab import drive\n",
    "drive.mount('/content/drive')"
   ]
  },
  {
   "cell_type": "markdown",
   "metadata": {
    "id": "MDn0PczAaJdm"
   },
   "source": [
    "### Move to the path where you want to save in gdrive"
   ]
  },
  {
   "cell_type": "code",
   "execution_count": null,
   "metadata": {
    "colab": {
     "base_uri": "https://localhost:8080/"
    },
    "executionInfo": {
     "elapsed": 465,
     "status": "ok",
     "timestamp": 1623155007002,
     "user": {
      "displayName": "Muhammad Naseer Subhani",
      "photoUrl": "",
      "userId": "06699857406068047110"
     },
     "user_tz": -300
    },
    "id": "nInBKRD9eqBl",
    "outputId": "f4233433-a8c3-4cf1-99b9-94e77ae8c85b"
   },
   "outputs": [],
   "source": [
    "%cd /content/drive/MyDrive/home/TheEasyYolo  "
   ]
  },
  {
   "cell_type": "markdown",
   "metadata": {
    "id": "SHYq7lncat0z"
   },
   "source": [
    "###Clone the repo   ==> <font color='red'>RunFirstTime</font>  when starting from zero"
   ]
  },
  {
   "cell_type": "code",
   "execution_count": null,
   "metadata": {
    "colab": {
     "base_uri": "https://localhost:8080/"
    },
    "executionInfo": {
     "elapsed": 2423,
     "status": "ok",
     "timestamp": 1623152476214,
     "user": {
      "displayName": "Muhammad Naseer Subhani",
      "photoUrl": "",
      "userId": "06699857406068047110"
     },
     "user_tz": -300
    },
    "id": "CG6cn26k2eBy",
    "outputId": "3bae3c19-0b38-47ac-cc2f-20479491c04f"
   },
   "outputs": [],
   "source": [
    "!git clone https://github.com/MNaseerSubhani/TheEasyYolo.git"
   ]
  },
  {
   "cell_type": "markdown",
   "metadata": {
    "id": "3uM9CgfHeFAy"
   },
   "source": [
    "### Get inside the repo folder"
   ]
  },
  {
   "cell_type": "code",
   "execution_count": null,
   "metadata": {
    "colab": {
     "base_uri": "https://localhost:8080/"
    },
    "executionInfo": {
     "elapsed": 552,
     "status": "ok",
     "timestamp": 1623155012206,
     "user": {
      "displayName": "Muhammad Naseer Subhani",
      "photoUrl": "",
      "userId": "06699857406068047110"
     },
     "user_tz": -300
    },
    "id": "k8HcYJpfd2gl",
    "outputId": "a8f9d485-d7a1-4777-9abd-72c9c52300fa"
   },
   "outputs": [],
   "source": [
    "%cd TheEasyYolo"
   ]
  },
  {
   "cell_type": "markdown",
   "metadata": {
    "id": "XACHv_SCb22g"
   },
   "source": [
    "###Update Submodule : <font color='red'>RunFirstTime</font>  when starting from zero"
   ]
  },
  {
   "cell_type": "code",
   "execution_count": null,
   "metadata": {
    "colab": {
     "base_uri": "https://localhost:8080/"
    },
    "executionInfo": {
     "elapsed": 33040,
     "status": "ok",
     "timestamp": 1623152702497,
     "user": {
      "displayName": "Muhammad Naseer Subhani",
      "photoUrl": "",
      "userId": "06699857406068047110"
     },
     "user_tz": -300
    },
    "id": "ssOacXEcb7e5",
    "outputId": "392170cd-f07c-4cc5-c281-07e290698fe0"
   },
   "outputs": [],
   "source": [
    "!git submodule init\n",
    "!git submodule update"
   ]
  },
  {
   "cell_type": "markdown",
   "metadata": {
    "id": "993kfVlDe-Nj"
   },
   "source": [
    "###  <font color='yellow'>Yolo Instance Init</font> : <font color='red'>RunFirstTime</font>  when creating new Instance"
   ]
  },
  {
   "cell_type": "code",
   "execution_count": null,
   "metadata": {
    "colab": {
     "base_uri": "https://localhost:8080/"
    },
    "executionInfo": {
     "elapsed": 648,
     "status": "ok",
     "timestamp": 1623157073268,
     "user": {
      "displayName": "Muhammad Naseer Subhani",
      "photoUrl": "",
      "userId": "06699857406068047110"
     },
     "user_tz": -300
    },
    "id": "4DNpkqJ8syjM",
    "outputId": "9bc1d51f-f4b3-4683-ca99-5e7939197dfe"
   },
   "outputs": [],
   "source": [
    "%cd /content/drive/MyDrive/home/TheEasyYolo/TheEasyYolo"
   ]
  },
  {
   "cell_type": "code",
   "execution_count": null,
   "metadata": {
    "executionInfo": {
     "elapsed": 962,
     "status": "ok",
     "timestamp": 1623157078704,
     "user": {
      "displayName": "Muhammad Naseer Subhani",
      "photoUrl": "",
      "userId": "06699857406068047110"
     },
     "user_tz": -300
    },
    "id": "0-rDN7Di3zoJ"
   },
   "outputs": [],
   "source": [
    "instance_name = \"yolo_stage_2\"     # Put any name of the Instance \n",
    "#set hyperparameters\n",
    "num_of_classes = 1                  # Total number of classes \n",
    "channel = 1                         # Channel used \"1 for Grayscale or 3 for RGB\"\n",
    "sub_division = 16            \n",
    "width = 320                         # Width of input image\n",
    "height = 256                        # Height of input image\n",
    "batch = 16                          # batch size\n",
    "yolo_ver = \"YoloV4-tiny\"            #The input should be YoloV4, YoloV4-tiny, YoloV3, YoloV3-tiny"
   ]
  },
  {
   "cell_type": "code",
   "execution_count": null,
   "metadata": {
    "executionInfo": {
     "elapsed": 6,
     "status": "ok",
     "timestamp": 1623157080573,
     "user": {
      "displayName": "Muhammad Naseer Subhani",
      "photoUrl": "",
      "userId": "06699857406068047110"
     },
     "user_tz": -300
    },
    "id": "Lv1k1zciEdZp"
   },
   "outputs": [],
   "source": [
    "if not os.path.exists(instance_name):\n",
    "  os.mkdir(instance_name)"
   ]
  },
  {
   "cell_type": "code",
   "execution_count": null,
   "metadata": {
    "executionInfo": {
     "elapsed": 3,
     "status": "ok",
     "timestamp": 1623157081567,
     "user": {
      "displayName": "Muhammad Naseer Subhani",
      "photoUrl": "",
      "userId": "06699857406068047110"
     },
     "user_tz": -300
    },
    "id": "6Ik6Dsy_ALi1"
   },
   "outputs": [],
   "source": [
    "if yolo_ver == \"YoloV3-tiny\":\n",
    "  cfg_name = \"yolov3-tiny.cfg\"\n",
    "elif yolo_ver == \"YoloV3\":\n",
    "  cfg_name = \"yolov3.cfg\"\n",
    "elif yolo_ver == \"YoloV4-tiny\":\n",
    "  cfg_name = \"yolov4-tiny.cfg\"\n",
    "elif yolo_ver == \"YoloV4\":\n",
    "  cfg_name = \"yolov4.cfg\""
   ]
  },
  {
   "cell_type": "code",
   "execution_count": null,
   "metadata": {
    "colab": {
     "base_uri": "https://localhost:8080/",
     "height": 35
    },
    "executionInfo": {
     "elapsed": 7,
     "status": "ok",
     "timestamp": 1623157083767,
     "user": {
      "displayName": "Muhammad Naseer Subhani",
      "photoUrl": "",
      "userId": "06699857406068047110"
     },
     "user_tz": -300
    },
    "id": "nv1URSriGAaH",
    "outputId": "e8a67b40-f04c-49e0-808c-9937cba1b3b1"
   },
   "outputs": [],
   "source": [
    "cfg_file_name = f'{cfg_name[:-4]}_{instance_name}.cfg'\n",
    "copyfile(os.path.join('./darknet/cfg/', cfg_name),os.path.join(instance_name, cfg_file_name))"
   ]
  },
  {
   "cell_type": "code",
   "execution_count": null,
   "metadata": {
    "colab": {
     "base_uri": "https://localhost:8080/"
    },
    "executionInfo": {
     "elapsed": 1382,
     "status": "ok",
     "timestamp": 1623157094007,
     "user": {
      "displayName": "Muhammad Naseer Subhani",
      "photoUrl": "",
      "userId": "06699857406068047110"
     },
     "user_tz": -300
    },
    "id": "byx9ec0NHWZ7",
    "outputId": "b158e151-f5a3-4555-ec95-16efeb41b8c9"
   },
   "outputs": [],
   "source": [
    "%cd {instance_name}\n",
    "!sed -i 's/subdivisions=1/subdivisions=$sub_division/' {cfg_file_name}\n",
    "!sed -i 's/width=416/width=$width/' {cfg_file_name}\n",
    "!sed -i 's/batch=64/batch=$batch/' {cfg_file_name}\n",
    "!sed -i 's/height=416/height=$height/' {cfg_file_name}\n",
    "!sed -i 's/channels=3/channels=$channel/' {cfg_file_name}\n",
    "!sed -i 's/classes=80/classes=$num_of_classes/' {cfg_file_name}\n",
    "filters = int ((num_of_classes + 5) * 3)\n",
    "!sed -i 's/filters=255/filters=$filters/' {cfg_file_name}\n",
    "%cd .."
   ]
  },
  {
   "cell_type": "code",
   "execution_count": null,
   "metadata": {
    "colab": {
     "base_uri": "https://localhost:8080/",
     "height": 35
    },
    "executionInfo": {
     "elapsed": 11,
     "status": "ok",
     "timestamp": 1623157098046,
     "user": {
      "displayName": "Muhammad Naseer Subhani",
      "photoUrl": "",
      "userId": "06699857406068047110"
     },
     "user_tz": -300
    },
    "id": "94y8fTRqNdsx",
    "outputId": "64479ff7-f32d-44b0-e435-2d8e0a532f0d"
   },
   "outputs": [],
   "source": [
    "copyfile('generate_test.py',os.path.join(instance_name, 'generate_test.py'))\n",
    "copyfile('generate_train.py',os.path.join(instance_name, 'generate_train.py'))"
   ]
  },
  {
   "cell_type": "markdown",
   "metadata": {
    "id": "TL8e5pU8gEcy"
   },
   "source": [
    "###  <font color='red'>NOTE: At this stage add dataset to the instance folder as structured below</font>\n",
    "\n",
    "--data\n",
    "\n",
    "  ----------- train\n",
    "\n",
    "  ----------- test"
   ]
  },
  {
   "cell_type": "markdown",
   "metadata": {
    "id": "OCrAkwkNg1ma"
   },
   "source": [
    "### Generate text files for the data : <font color='red'>RunFirstTime</font>  when creating new Instance"
   ]
  },
  {
   "cell_type": "code",
   "execution_count": null,
   "metadata": {
    "colab": {
     "base_uri": "https://localhost:8080/"
    },
    "executionInfo": {
     "elapsed": 457,
     "status": "ok",
     "timestamp": 1623155072229,
     "user": {
      "displayName": "Muhammad Naseer Subhani",
      "photoUrl": "",
      "userId": "06699857406068047110"
     },
     "user_tz": -300
    },
    "id": "mC7Wph_YN8E6",
    "outputId": "c83c3b53-cf36-49c5-9691-ed51992d6f1c"
   },
   "outputs": [],
   "source": [
    "%cd {instance_name}\n",
    "!python generate_train.py\n",
    "!python generate_test.py\n",
    "%cd .."
   ]
  },
  {
   "cell_type": "markdown",
   "metadata": {
    "id": "HUGN3ne3htTI"
   },
   "source": [
    "###Generate train.names file for the instance : <font color='red'>RunFirstTime</font>  when creating new Instance"
   ]
  },
  {
   "cell_type": "code",
   "execution_count": null,
   "metadata": {
    "colab": {
     "base_uri": "https://localhost:8080/"
    },
    "executionInfo": {
     "elapsed": 448,
     "status": "ok",
     "timestamp": 1623155083610,
     "user": {
      "displayName": "Muhammad Naseer Subhani",
      "photoUrl": "",
      "userId": "06699857406068047110"
     },
     "user_tz": -300
    },
    "id": "qCQX3297Wu1c",
    "outputId": "6a2383dd-b618-4213-aa36-e8228f130a8e"
   },
   "outputs": [],
   "source": [
    "%cd {instance_name}\n",
    "with open(\"train.names\", \"w\") as f:   \n",
    "    f.write(\"oilcan\")\n",
    "    #f.write(\"\\nother classe\")\n",
    "%cd .."
   ]
  },
  {
   "cell_type": "markdown",
   "metadata": {
    "id": "UT6-h2RMh5aA"
   },
   "source": [
    "###Generate train.data file for the instance : <font color='red'>RunFirstTime</font>  when creating new Instance"
   ]
  },
  {
   "cell_type": "code",
   "execution_count": null,
   "metadata": {
    "colab": {
     "base_uri": "https://localhost:8080/"
    },
    "executionInfo": {
     "elapsed": 509,
     "status": "ok",
     "timestamp": 1623155095073,
     "user": {
      "displayName": "Muhammad Naseer Subhani",
      "photoUrl": "",
      "userId": "06699857406068047110"
     },
     "user_tz": -300
    },
    "id": "oHxlALa_c0Ax",
    "outputId": "87dd0d85-2275-40dc-9b42-c27fe08cbf8d"
   },
   "outputs": [],
   "source": [
    "%cd {instance_name}\n",
    "\n",
    "if not os.path.exists('backup'):\n",
    "  os.mkdir('backup')\n",
    "\n",
    "with open(\"train.data\", \"w\") as f:   \n",
    "    f.write(f\"classes={num_of_classes}\")\n",
    "    f.write(f\"\\ntrain = {os.path.join(os.getcwd(), 'data', 'train.txt')}\")\n",
    "    f.write(f\"\\nvalid = {os.path.join(os.getcwd(), 'data', 'test.txt')}\")\n",
    "    f.write(f\"\\nnames = {os.path.join(os.getcwd(), 'train.names')}\")\n",
    "    f.write(f\"\\nbackup = {os.path.join(os.getcwd(), 'backup/')}\")\n",
    "    #f.write(\"\\nother classe\")\n",
    "%cd .."
   ]
  },
  {
   "cell_type": "markdown",
   "metadata": {
    "id": "D5IrfMNvgt2w"
   },
   "source": [
    "#Training"
   ]
  },
  {
   "cell_type": "code",
   "execution_count": null,
   "metadata": {
    "colab": {
     "base_uri": "https://localhost:8080/"
    },
    "executionInfo": {
     "elapsed": 627,
     "status": "ok",
     "timestamp": 1623155100418,
     "user": {
      "displayName": "Muhammad Naseer Subhani",
      "photoUrl": "",
      "userId": "06699857406068047110"
     },
     "user_tz": -300
    },
    "id": "1CLw_k_MgwNP",
    "outputId": "31c16f1a-3eba-4051-df7a-05e5ddfe4acf"
   },
   "outputs": [],
   "source": [
    "%cd darknet"
   ]
  },
  {
   "cell_type": "code",
   "execution_count": null,
   "metadata": {
    "executionInfo": {
     "elapsed": 454,
     "status": "ok",
     "timestamp": 1623155101339,
     "user": {
      "displayName": "Muhammad Naseer Subhani",
      "photoUrl": "",
      "userId": "06699857406068047110"
     },
     "user_tz": -300
    },
    "id": "ZFQqH43rgxd9"
   },
   "outputs": [],
   "source": [
    "!sed -i 's/OPENCV=0/OPENCV=1/' Makefile\n",
    "!sed -i 's/GPU=0/GPU=1/' Makefile\n",
    "!sed -i 's/CUDNN=0/CUDNN=1/' Makefile\n",
    "!sed -i 's/CUDNN_HALF=0/CUDNN_HALF=1/' Makefile"
   ]
  },
  {
   "cell_type": "markdown",
   "metadata": {
    "id": "8gBIQC8lg-pi"
   },
   "source": [
    "### Download pre-trained weights for the convolutional layers : <font color='red'>RunFirstTime</font>  when creating new Instance"
   ]
  },
  {
   "cell_type": "code",
   "execution_count": null,
   "metadata": {
    "colab": {
     "base_uri": "https://localhost:8080/"
    },
    "executionInfo": {
     "elapsed": 6686,
     "status": "ok",
     "timestamp": 1623154472255,
     "user": {
      "displayName": "Muhammad Naseer Subhani",
      "photoUrl": "",
      "userId": "06699857406068047110"
     },
     "user_tz": -300
    },
    "id": "SnQ7Pi1wg_XS",
    "outputId": "93506003-2bc3-4468-f788-d288563abbd9"
   },
   "outputs": [],
   "source": [
    "if yolo_ver == \"YoloV4\" or yolo_ver == \"YoloV4-tiny\":\n",
    "  !wget https://github.com/AlexeyAB/darknet/releases/download/darknet_yolo_v3_optimal/yolov4.conv.137\n",
    "  pre_trained_weights = 'yolov4.conv.137'\n",
    "elif yolo_ver == \"YoloV3\":\n",
    "  !wget https://github.com/smarthomefans/darknet-test/blob/master/yolov3-tiny.weights\n",
    "  pre_trained_weights = 'yolov3-tiny.weights'\n",
    "elif yolo_ver == \"YoloV3-tiny\":\n",
    "  !wget https://github.com/smarthomefans/darknet-test/blob/master/yolov3-tiny.weights\n",
    "  pre_trained_weights = 'yolov3-tiny.weights'"
   ]
  },
  {
   "cell_type": "markdown",
   "metadata": {
    "id": "A6qAZUm7i7MZ"
   },
   "source": [
    "### <font color='yellow'>Run Make</font> : <font color='red'>RunFirstTime</font>  when starting from zero"
   ]
  },
  {
   "cell_type": "code",
   "execution_count": null,
   "metadata": {
    "colab": {
     "base_uri": "https://localhost:8080/"
    },
    "executionInfo": {
     "elapsed": 148217,
     "status": "ok",
     "timestamp": 1623154678710,
     "user": {
      "displayName": "Muhammad Naseer Subhani",
      "photoUrl": "",
      "userId": "06699857406068047110"
     },
     "user_tz": -300
    },
    "id": "18OVndQqhZP6",
    "outputId": "988aeae4-03bc-4e2a-9163-d2393af58d10"
   },
   "outputs": [],
   "source": [
    "!make"
   ]
  },
  {
   "cell_type": "markdown",
   "metadata": {
    "id": "MvEe3vwFjLD5"
   },
   "source": [
    "###Training "
   ]
  },
  {
   "cell_type": "code",
   "execution_count": null,
   "metadata": {
    "colab": {
     "base_uri": "https://localhost:8080/"
    },
    "executionInfo": {
     "elapsed": 1573434,
     "status": "ok",
     "timestamp": 1623156694504,
     "user": {
      "displayName": "Muhammad Naseer Subhani",
      "photoUrl": "",
      "userId": "06699857406068047110"
     },
     "user_tz": -300
    },
    "id": "CL2iNGlThhIK",
    "outputId": "7c5c4f91-45de-4bfd-b30f-f91993683141"
   },
   "outputs": [],
   "source": [
    "!./darknet detector train ../{instance_name}/train.data ../{instance_name}/{cfg_file_name} {pre_trained_weights} -dont_show -map -clear"
   ]
  },
  {
   "cell_type": "markdown",
   "metadata": {
    "id": "s1OiukpjibIU"
   },
   "source": [
    "Continue Training"
   ]
  },
  {
   "cell_type": "code",
   "execution_count": null,
   "metadata": {
    "colab": {
     "base_uri": "https://localhost:8080/"
    },
    "executionInfo": {
     "elapsed": 12378,
     "status": "ok",
     "timestamp": 1623138838881,
     "user": {
      "displayName": "Muhammad Naseer Subhani",
      "photoUrl": "",
      "userId": "06699857406068047110"
     },
     "user_tz": -300
    },
    "id": "yANRTD-oic-T",
    "outputId": "1fa63525-4f43-494b-c41d-91e589acd13f"
   },
   "outputs": [],
   "source": [
    "!./darknet detector train ../{instance_name}/train.data ../{instance_name}/{cfg_file_name} ../{instance_name}/backup/{cfg_file_name[:-4] + '_last.weights'} -dont_show -map -clear"
   ]
  },
  {
   "cell_type": "markdown",
   "metadata": {
    "id": "S6Dk1LVQjxaU"
   },
   "source": [
    "#Test"
   ]
  },
  {
   "cell_type": "code",
   "execution_count": null,
   "metadata": {
    "colab": {
     "base_uri": "https://localhost:8080/"
    },
    "executionInfo": {
     "elapsed": 488,
     "status": "ok",
     "timestamp": 1623156728403,
     "user": {
      "displayName": "Muhammad Naseer Subhani",
      "photoUrl": "",
      "userId": "06699857406068047110"
     },
     "user_tz": -300
    },
    "id": "YjHjKM8Cnti4",
    "outputId": "2a63183e-79f6-4a25-c01e-e3c757c07e42"
   },
   "outputs": [],
   "source": [
    "%cd .."
   ]
  },
  {
   "cell_type": "code",
   "execution_count": null,
   "metadata": {
    "colab": {
     "base_uri": "https://localhost:8080/"
    },
    "executionInfo": {
     "elapsed": 584,
     "status": "ok",
     "timestamp": 1623156735091,
     "user": {
      "displayName": "Muhammad Naseer Subhani",
      "photoUrl": "",
      "userId": "06699857406068047110"
     },
     "user_tz": -300
    },
    "id": "Sm8RKsgWjywt",
    "outputId": "897f0bf8-a1f2-4055-fb7d-d9d119bb2d4a"
   },
   "outputs": [],
   "source": [
    "%cd {instance_name}\n",
    "!sed -i 's/batch=$batch/batch=1/' {cfg_file_name}\n",
    "!sed -i 's/subdivisions=$sub_division/subdivisions=1/' {cfg_file_name}\n",
    "%cd .."
   ]
  },
  {
   "cell_type": "code",
   "execution_count": null,
   "metadata": {
    "colab": {
     "base_uri": "https://localhost:8080/"
    },
    "executionInfo": {
     "elapsed": 555,
     "status": "ok",
     "timestamp": 1623156758845,
     "user": {
      "displayName": "Muhammad Naseer Subhani",
      "photoUrl": "",
      "userId": "06699857406068047110"
     },
     "user_tz": -300
    },
    "id": "0woqrnrPrnlR",
    "outputId": "9af29455-1158-4a41-84e7-f9084cdacd84"
   },
   "outputs": [],
   "source": [
    "%cd darknet"
   ]
  },
  {
   "cell_type": "code",
   "execution_count": null,
   "metadata": {
    "colab": {
     "base_uri": "https://localhost:8080/"
    },
    "executionInfo": {
     "elapsed": 3788,
     "status": "ok",
     "timestamp": 1623156913802,
     "user": {
      "displayName": "Muhammad Naseer Subhani",
      "photoUrl": "",
      "userId": "06699857406068047110"
     },
     "user_tz": -300
    },
    "id": "3aninoXQl_AD",
    "outputId": "445f3c9a-b8eb-4e27-d144-3689c996e2e6"
   },
   "outputs": [],
   "source": [
    "!./darknet detector test ../{instance_name}/train.data ../{instance_name}/{cfg_file_name} ../{instance_name}/backup/{cfg_file_name[:-4] + '_last.weights'} ../{instance_name}/data/test/frame445.jpg -thresh 0.1"
   ]
  },
  {
   "cell_type": "code",
   "execution_count": null,
   "metadata": {
    "colab": {
     "base_uri": "https://localhost:8080/"
    },
    "executionInfo": {
     "elapsed": 569,
     "status": "ok",
     "timestamp": 1623157179984,
     "user": {
      "displayName": "Muhammad Naseer Subhani",
      "photoUrl": "",
      "userId": "06699857406068047110"
     },
     "user_tz": -300
    },
    "id": "076RsN7ptO7q",
    "outputId": "a8e71e71-6773-496e-8f0c-a5edc5decef9"
   },
   "outputs": [],
   "source": [
    "%cd .."
   ]
  },
  {
   "cell_type": "code",
   "execution_count": null,
   "metadata": {
    "id": "wzAdcf1WtT7L"
   },
   "outputs": [],
   "source": []
  }
 ],
 "metadata": {
  "accelerator": "GPU",
  "colab": {
   "authorship_tag": "ABX9TyOEhZ0Jl2IPZ9/f24e0ZRgc",
   "collapsed_sections": [],
   "mount_file_id": "1xf66WvFVf3p5uLNnObSMPAzlCu8JahCR",
   "name": "TheEasyYolo.ipynb",
   "provenance": [],
   "toc_visible": true
  },
  "kernelspec": {
   "display_name": "Python 3",
   "name": "python3"
  },
  "language_info": {
   "name": "python"
  }
 },
 "nbformat": 4,
 "nbformat_minor": 0
}
